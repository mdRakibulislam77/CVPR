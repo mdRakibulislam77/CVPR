{
  "cells": [
    {
      "cell_type": "code",
      "execution_count": 1,
      "id": "18528efe",
      "metadata": {
        "id": "18528efe"
      },
      "outputs": [],
      "source": [
        "import numpy as np\n",
        "import matplotlib.pyplot as plt\n",
        "import pandas as pd\n",
        "from sklearn.metrics import accuracy_score, precision_score, recall_score, f1_score, confusion_matrix, roc_curve, auc\n",
        "import seaborn as sns"
      ]
    },
    {
      "cell_type": "code",
      "source": [
        "from google.colab import drive\n",
        "\n",
        "drive.mount('/content/gdrive')\n"
      ],
      "metadata": {
        "colab": {
          "base_uri": "https://localhost:8080/"
        },
        "id": "H9xGNk7M97bL",
        "outputId": "7485e724-5207-42a9-eb69-e37d2864d331"
      },
      "id": "H9xGNk7M97bL",
      "execution_count": 2,
      "outputs": [
        {
          "output_type": "stream",
          "name": "stdout",
          "text": [
            "Mounted at /content/gdrive\n"
          ]
        }
      ]
    },
    {
      "cell_type": "code",
      "source": [
        "data_path=\"/content/gdrive/MyDrive/CVPR/CVPR/NN_Dataset.xlsx\""
      ],
      "metadata": {
        "id": "ialwfIZm-TRT"
      },
      "id": "ialwfIZm-TRT",
      "execution_count": 3,
      "outputs": []
    },
    {
      "cell_type": "code",
      "source": [
        "df = pd.read_excel(data_path)\n",
        "\n",
        "df"
      ],
      "metadata": {
        "colab": {
          "base_uri": "https://localhost:8080/",
          "height": 423
        },
        "id": "_PEZaTaO-6_b",
        "outputId": "f6b2ec74-6f01-442b-8bfc-6ae04b6b18a0"
      },
      "id": "_PEZaTaO-6_b",
      "execution_count": 4,
      "outputs": [
        {
          "output_type": "execute_result",
          "data": {
            "text/plain": [
              "             X           Y  Theta (degrees)  Label\n",
              "0    51.131393 -161.394580       287.578715    4.0\n",
              "1  -149.709613   11.287667       175.688224    3.0\n",
              "2  -121.813663   14.628644       173.152124    3.0\n",
              "3   143.479508   49.474765        19.025275    1.0\n",
              "4    38.314461   81.392880        64.792002    1.0\n",
              "..         ...         ...              ...    ...\n",
              "95    8.007574  155.072637        87.044011    2.0\n",
              "96   97.197679  129.028591        53.009160    1.0\n",
              "97 -102.304430  -25.562150       194.028886    3.0\n",
              "98   44.240571   90.313584        63.901840    1.0\n",
              "99 -149.274913   91.635435       148.455472    3.0\n",
              "\n",
              "[100 rows x 4 columns]"
            ],
            "text/html": [
              "\n",
              "  <div id=\"df-cca83295-7744-451b-a38c-7bc864f5d0d7\" class=\"colab-df-container\">\n",
              "    <div>\n",
              "<style scoped>\n",
              "    .dataframe tbody tr th:only-of-type {\n",
              "        vertical-align: middle;\n",
              "    }\n",
              "\n",
              "    .dataframe tbody tr th {\n",
              "        vertical-align: top;\n",
              "    }\n",
              "\n",
              "    .dataframe thead th {\n",
              "        text-align: right;\n",
              "    }\n",
              "</style>\n",
              "<table border=\"1\" class=\"dataframe\">\n",
              "  <thead>\n",
              "    <tr style=\"text-align: right;\">\n",
              "      <th></th>\n",
              "      <th>X</th>\n",
              "      <th>Y</th>\n",
              "      <th>Theta (degrees)</th>\n",
              "      <th>Label</th>\n",
              "    </tr>\n",
              "  </thead>\n",
              "  <tbody>\n",
              "    <tr>\n",
              "      <th>0</th>\n",
              "      <td>51.131393</td>\n",
              "      <td>-161.394580</td>\n",
              "      <td>287.578715</td>\n",
              "      <td>4.0</td>\n",
              "    </tr>\n",
              "    <tr>\n",
              "      <th>1</th>\n",
              "      <td>-149.709613</td>\n",
              "      <td>11.287667</td>\n",
              "      <td>175.688224</td>\n",
              "      <td>3.0</td>\n",
              "    </tr>\n",
              "    <tr>\n",
              "      <th>2</th>\n",
              "      <td>-121.813663</td>\n",
              "      <td>14.628644</td>\n",
              "      <td>173.152124</td>\n",
              "      <td>3.0</td>\n",
              "    </tr>\n",
              "    <tr>\n",
              "      <th>3</th>\n",
              "      <td>143.479508</td>\n",
              "      <td>49.474765</td>\n",
              "      <td>19.025275</td>\n",
              "      <td>1.0</td>\n",
              "    </tr>\n",
              "    <tr>\n",
              "      <th>4</th>\n",
              "      <td>38.314461</td>\n",
              "      <td>81.392880</td>\n",
              "      <td>64.792002</td>\n",
              "      <td>1.0</td>\n",
              "    </tr>\n",
              "    <tr>\n",
              "      <th>...</th>\n",
              "      <td>...</td>\n",
              "      <td>...</td>\n",
              "      <td>...</td>\n",
              "      <td>...</td>\n",
              "    </tr>\n",
              "    <tr>\n",
              "      <th>95</th>\n",
              "      <td>8.007574</td>\n",
              "      <td>155.072637</td>\n",
              "      <td>87.044011</td>\n",
              "      <td>2.0</td>\n",
              "    </tr>\n",
              "    <tr>\n",
              "      <th>96</th>\n",
              "      <td>97.197679</td>\n",
              "      <td>129.028591</td>\n",
              "      <td>53.009160</td>\n",
              "      <td>1.0</td>\n",
              "    </tr>\n",
              "    <tr>\n",
              "      <th>97</th>\n",
              "      <td>-102.304430</td>\n",
              "      <td>-25.562150</td>\n",
              "      <td>194.028886</td>\n",
              "      <td>3.0</td>\n",
              "    </tr>\n",
              "    <tr>\n",
              "      <th>98</th>\n",
              "      <td>44.240571</td>\n",
              "      <td>90.313584</td>\n",
              "      <td>63.901840</td>\n",
              "      <td>1.0</td>\n",
              "    </tr>\n",
              "    <tr>\n",
              "      <th>99</th>\n",
              "      <td>-149.274913</td>\n",
              "      <td>91.635435</td>\n",
              "      <td>148.455472</td>\n",
              "      <td>3.0</td>\n",
              "    </tr>\n",
              "  </tbody>\n",
              "</table>\n",
              "<p>100 rows × 4 columns</p>\n",
              "</div>\n",
              "    <div class=\"colab-df-buttons\">\n",
              "\n",
              "  <div class=\"colab-df-container\">\n",
              "    <button class=\"colab-df-convert\" onclick=\"convertToInteractive('df-cca83295-7744-451b-a38c-7bc864f5d0d7')\"\n",
              "            title=\"Convert this dataframe to an interactive table.\"\n",
              "            style=\"display:none;\">\n",
              "\n",
              "  <svg xmlns=\"http://www.w3.org/2000/svg\" height=\"24px\" viewBox=\"0 -960 960 960\">\n",
              "    <path d=\"M120-120v-720h720v720H120Zm60-500h600v-160H180v160Zm220 220h160v-160H400v160Zm0 220h160v-160H400v160ZM180-400h160v-160H180v160Zm440 0h160v-160H620v160ZM180-180h160v-160H180v160Zm440 0h160v-160H620v160Z\"/>\n",
              "  </svg>\n",
              "    </button>\n",
              "\n",
              "  <style>\n",
              "    .colab-df-container {\n",
              "      display:flex;\n",
              "      gap: 12px;\n",
              "    }\n",
              "\n",
              "    .colab-df-convert {\n",
              "      background-color: #E8F0FE;\n",
              "      border: none;\n",
              "      border-radius: 50%;\n",
              "      cursor: pointer;\n",
              "      display: none;\n",
              "      fill: #1967D2;\n",
              "      height: 32px;\n",
              "      padding: 0 0 0 0;\n",
              "      width: 32px;\n",
              "    }\n",
              "\n",
              "    .colab-df-convert:hover {\n",
              "      background-color: #E2EBFA;\n",
              "      box-shadow: 0px 1px 2px rgba(60, 64, 67, 0.3), 0px 1px 3px 1px rgba(60, 64, 67, 0.15);\n",
              "      fill: #174EA6;\n",
              "    }\n",
              "\n",
              "    .colab-df-buttons div {\n",
              "      margin-bottom: 4px;\n",
              "    }\n",
              "\n",
              "    [theme=dark] .colab-df-convert {\n",
              "      background-color: #3B4455;\n",
              "      fill: #D2E3FC;\n",
              "    }\n",
              "\n",
              "    [theme=dark] .colab-df-convert:hover {\n",
              "      background-color: #434B5C;\n",
              "      box-shadow: 0px 1px 3px 1px rgba(0, 0, 0, 0.15);\n",
              "      filter: drop-shadow(0px 1px 2px rgba(0, 0, 0, 0.3));\n",
              "      fill: #FFFFFF;\n",
              "    }\n",
              "  </style>\n",
              "\n",
              "    <script>\n",
              "      const buttonEl =\n",
              "        document.querySelector('#df-cca83295-7744-451b-a38c-7bc864f5d0d7 button.colab-df-convert');\n",
              "      buttonEl.style.display =\n",
              "        google.colab.kernel.accessAllowed ? 'block' : 'none';\n",
              "\n",
              "      async function convertToInteractive(key) {\n",
              "        const element = document.querySelector('#df-cca83295-7744-451b-a38c-7bc864f5d0d7');\n",
              "        const dataTable =\n",
              "          await google.colab.kernel.invokeFunction('convertToInteractive',\n",
              "                                                    [key], {});\n",
              "        if (!dataTable) return;\n",
              "\n",
              "        const docLinkHtml = 'Like what you see? Visit the ' +\n",
              "          '<a target=\"_blank\" href=https://colab.research.google.com/notebooks/data_table.ipynb>data table notebook</a>'\n",
              "          + ' to learn more about interactive tables.';\n",
              "        element.innerHTML = '';\n",
              "        dataTable['output_type'] = 'display_data';\n",
              "        await google.colab.output.renderOutput(dataTable, element);\n",
              "        const docLink = document.createElement('div');\n",
              "        docLink.innerHTML = docLinkHtml;\n",
              "        element.appendChild(docLink);\n",
              "      }\n",
              "    </script>\n",
              "  </div>\n",
              "\n",
              "\n",
              "<div id=\"df-84fe6111-2edc-4850-accc-3536466cf18e\">\n",
              "  <button class=\"colab-df-quickchart\" onclick=\"quickchart('df-84fe6111-2edc-4850-accc-3536466cf18e')\"\n",
              "            title=\"Suggest charts\"\n",
              "            style=\"display:none;\">\n",
              "\n",
              "<svg xmlns=\"http://www.w3.org/2000/svg\" height=\"24px\"viewBox=\"0 0 24 24\"\n",
              "     width=\"24px\">\n",
              "    <g>\n",
              "        <path d=\"M19 3H5c-1.1 0-2 .9-2 2v14c0 1.1.9 2 2 2h14c1.1 0 2-.9 2-2V5c0-1.1-.9-2-2-2zM9 17H7v-7h2v7zm4 0h-2V7h2v10zm4 0h-2v-4h2v4z\"/>\n",
              "    </g>\n",
              "</svg>\n",
              "  </button>\n",
              "\n",
              "<style>\n",
              "  .colab-df-quickchart {\n",
              "      --bg-color: #E8F0FE;\n",
              "      --fill-color: #1967D2;\n",
              "      --hover-bg-color: #E2EBFA;\n",
              "      --hover-fill-color: #174EA6;\n",
              "      --disabled-fill-color: #AAA;\n",
              "      --disabled-bg-color: #DDD;\n",
              "  }\n",
              "\n",
              "  [theme=dark] .colab-df-quickchart {\n",
              "      --bg-color: #3B4455;\n",
              "      --fill-color: #D2E3FC;\n",
              "      --hover-bg-color: #434B5C;\n",
              "      --hover-fill-color: #FFFFFF;\n",
              "      --disabled-bg-color: #3B4455;\n",
              "      --disabled-fill-color: #666;\n",
              "  }\n",
              "\n",
              "  .colab-df-quickchart {\n",
              "    background-color: var(--bg-color);\n",
              "    border: none;\n",
              "    border-radius: 50%;\n",
              "    cursor: pointer;\n",
              "    display: none;\n",
              "    fill: var(--fill-color);\n",
              "    height: 32px;\n",
              "    padding: 0;\n",
              "    width: 32px;\n",
              "  }\n",
              "\n",
              "  .colab-df-quickchart:hover {\n",
              "    background-color: var(--hover-bg-color);\n",
              "    box-shadow: 0 1px 2px rgba(60, 64, 67, 0.3), 0 1px 3px 1px rgba(60, 64, 67, 0.15);\n",
              "    fill: var(--button-hover-fill-color);\n",
              "  }\n",
              "\n",
              "  .colab-df-quickchart-complete:disabled,\n",
              "  .colab-df-quickchart-complete:disabled:hover {\n",
              "    background-color: var(--disabled-bg-color);\n",
              "    fill: var(--disabled-fill-color);\n",
              "    box-shadow: none;\n",
              "  }\n",
              "\n",
              "  .colab-df-spinner {\n",
              "    border: 2px solid var(--fill-color);\n",
              "    border-color: transparent;\n",
              "    border-bottom-color: var(--fill-color);\n",
              "    animation:\n",
              "      spin 1s steps(1) infinite;\n",
              "  }\n",
              "\n",
              "  @keyframes spin {\n",
              "    0% {\n",
              "      border-color: transparent;\n",
              "      border-bottom-color: var(--fill-color);\n",
              "      border-left-color: var(--fill-color);\n",
              "    }\n",
              "    20% {\n",
              "      border-color: transparent;\n",
              "      border-left-color: var(--fill-color);\n",
              "      border-top-color: var(--fill-color);\n",
              "    }\n",
              "    30% {\n",
              "      border-color: transparent;\n",
              "      border-left-color: var(--fill-color);\n",
              "      border-top-color: var(--fill-color);\n",
              "      border-right-color: var(--fill-color);\n",
              "    }\n",
              "    40% {\n",
              "      border-color: transparent;\n",
              "      border-right-color: var(--fill-color);\n",
              "      border-top-color: var(--fill-color);\n",
              "    }\n",
              "    60% {\n",
              "      border-color: transparent;\n",
              "      border-right-color: var(--fill-color);\n",
              "    }\n",
              "    80% {\n",
              "      border-color: transparent;\n",
              "      border-right-color: var(--fill-color);\n",
              "      border-bottom-color: var(--fill-color);\n",
              "    }\n",
              "    90% {\n",
              "      border-color: transparent;\n",
              "      border-bottom-color: var(--fill-color);\n",
              "    }\n",
              "  }\n",
              "</style>\n",
              "\n",
              "  <script>\n",
              "    async function quickchart(key) {\n",
              "      const quickchartButtonEl =\n",
              "        document.querySelector('#' + key + ' button');\n",
              "      quickchartButtonEl.disabled = true;  // To prevent multiple clicks.\n",
              "      quickchartButtonEl.classList.add('colab-df-spinner');\n",
              "      try {\n",
              "        const charts = await google.colab.kernel.invokeFunction(\n",
              "            'suggestCharts', [key], {});\n",
              "      } catch (error) {\n",
              "        console.error('Error during call to suggestCharts:', error);\n",
              "      }\n",
              "      quickchartButtonEl.classList.remove('colab-df-spinner');\n",
              "      quickchartButtonEl.classList.add('colab-df-quickchart-complete');\n",
              "    }\n",
              "    (() => {\n",
              "      let quickchartButtonEl =\n",
              "        document.querySelector('#df-84fe6111-2edc-4850-accc-3536466cf18e button');\n",
              "      quickchartButtonEl.style.display =\n",
              "        google.colab.kernel.accessAllowed ? 'block' : 'none';\n",
              "    })();\n",
              "  </script>\n",
              "</div>\n",
              "\n",
              "  <div id=\"id_9382218a-afeb-4d71-88ad-35e796c27b12\">\n",
              "    <style>\n",
              "      .colab-df-generate {\n",
              "        background-color: #E8F0FE;\n",
              "        border: none;\n",
              "        border-radius: 50%;\n",
              "        cursor: pointer;\n",
              "        display: none;\n",
              "        fill: #1967D2;\n",
              "        height: 32px;\n",
              "        padding: 0 0 0 0;\n",
              "        width: 32px;\n",
              "      }\n",
              "\n",
              "      .colab-df-generate:hover {\n",
              "        background-color: #E2EBFA;\n",
              "        box-shadow: 0px 1px 2px rgba(60, 64, 67, 0.3), 0px 1px 3px 1px rgba(60, 64, 67, 0.15);\n",
              "        fill: #174EA6;\n",
              "      }\n",
              "\n",
              "      [theme=dark] .colab-df-generate {\n",
              "        background-color: #3B4455;\n",
              "        fill: #D2E3FC;\n",
              "      }\n",
              "\n",
              "      [theme=dark] .colab-df-generate:hover {\n",
              "        background-color: #434B5C;\n",
              "        box-shadow: 0px 1px 3px 1px rgba(0, 0, 0, 0.15);\n",
              "        filter: drop-shadow(0px 1px 2px rgba(0, 0, 0, 0.3));\n",
              "        fill: #FFFFFF;\n",
              "      }\n",
              "    </style>\n",
              "    <button class=\"colab-df-generate\" onclick=\"generateWithVariable('df')\"\n",
              "            title=\"Generate code using this dataframe.\"\n",
              "            style=\"display:none;\">\n",
              "\n",
              "  <svg xmlns=\"http://www.w3.org/2000/svg\" height=\"24px\"viewBox=\"0 0 24 24\"\n",
              "       width=\"24px\">\n",
              "    <path d=\"M7,19H8.4L18.45,9,17,7.55,7,17.6ZM5,21V16.75L18.45,3.32a2,2,0,0,1,2.83,0l1.4,1.43a1.91,1.91,0,0,1,.58,1.4,1.91,1.91,0,0,1-.58,1.4L9.25,21ZM18.45,9,17,7.55Zm-12,3A5.31,5.31,0,0,0,4.9,8.1,5.31,5.31,0,0,0,1,6.5,5.31,5.31,0,0,0,4.9,4.9,5.31,5.31,0,0,0,6.5,1,5.31,5.31,0,0,0,8.1,4.9,5.31,5.31,0,0,0,12,6.5,5.46,5.46,0,0,0,6.5,12Z\"/>\n",
              "  </svg>\n",
              "    </button>\n",
              "    <script>\n",
              "      (() => {\n",
              "      const buttonEl =\n",
              "        document.querySelector('#id_9382218a-afeb-4d71-88ad-35e796c27b12 button.colab-df-generate');\n",
              "      buttonEl.style.display =\n",
              "        google.colab.kernel.accessAllowed ? 'block' : 'none';\n",
              "\n",
              "      buttonEl.onclick = () => {\n",
              "        google.colab.notebook.generateWithVariable('df');\n",
              "      }\n",
              "      })();\n",
              "    </script>\n",
              "  </div>\n",
              "\n",
              "    </div>\n",
              "  </div>\n"
            ],
            "application/vnd.google.colaboratory.intrinsic+json": {
              "type": "dataframe",
              "variable_name": "df",
              "summary": "{\n  \"name\": \"df\",\n  \"rows\": 100,\n  \"fields\": [\n    {\n      \"column\": \"X\",\n      \"properties\": {\n        \"dtype\": \"number\",\n        \"std\": 105.63344894192625,\n        \"min\": -178.1778298153613,\n        \"max\": 176.4193860375348,\n        \"num_unique_values\": 100,\n        \"samples\": [\n          -146.1665016572871,\n          -65.90807814374004,\n          111.3700159722649\n        ],\n        \"semantic_type\": \"\",\n        \"description\": \"\"\n      }\n    },\n    {\n      \"column\": \"Y\",\n      \"properties\": {\n        \"dtype\": \"number\",\n        \"std\": 105.64279870921237,\n        \"min\": -174.8183440932879,\n        \"max\": 176.5818511202424,\n        \"num_unique_values\": 100,\n        \"samples\": [\n          135.889924869739,\n          -121.3436062506853,\n          -143.7199195041264\n        ],\n        \"semantic_type\": \"\",\n        \"description\": \"\"\n      }\n    },\n    {\n      \"column\": \"Theta (degrees)\",\n      \"properties\": {\n        \"dtype\": \"number\",\n        \"std\": 106.24345450027793,\n        \"min\": 6.555156010625742,\n        \"max\": 358.9095070861048,\n        \"num_unique_values\": 100,\n        \"samples\": [\n          137.0866184546953,\n          241.4912939799543,\n          307.7724658117618\n        ],\n        \"semantic_type\": \"\",\n        \"description\": \"\"\n      }\n    },\n    {\n      \"column\": \"Label\",\n      \"properties\": {\n        \"dtype\": \"number\",\n        \"std\": 1.4940271380600654,\n        \"min\": 1.0,\n        \"max\": 5.0,\n        \"num_unique_values\": 5,\n        \"samples\": [\n          3.0,\n          5.0,\n          1.0\n        ],\n        \"semantic_type\": \"\",\n        \"description\": \"\"\n      }\n    }\n  ]\n}"
            }
          },
          "metadata": {},
          "execution_count": 4
        }
      ]
    },
    {
      "cell_type": "code",
      "source": [
        "#Convert labels to integers, handling potential float values and NaNs\n",
        "df[\"Label\"] = df[\"Label\"].fillna(0).astype(int) ## Convert NaN to 0, then to int"
      ],
      "metadata": {
        "id": "Q7FpzJNAJZHZ"
      },
      "id": "Q7FpzJNAJZHZ",
      "execution_count": 5,
      "outputs": []
    },
    {
      "cell_type": "code",
      "source": [
        "# Define normalization function to convert label to one-hot encoding\n",
        "def normalize(input):\n",
        "    encoding = [0, 0, 0, 0, 0]\n",
        "    # Set the position of the class to 1\n",
        "    if 1 <= input <= 5:\n",
        "        encoding[input - 1] = 1\n",
        "    return encoding"
      ],
      "metadata": {
        "id": "zCwqWCTOIjn_"
      },
      "id": "zCwqWCTOIjn_",
      "execution_count": 9,
      "outputs": []
    },
    {
      "cell_type": "code",
      "source": [
        "# Extract columns as lists\n",
        "X1 = df[\"X\"].values.tolist()\n",
        "X2 = df[\"Y\"].values.tolist()\n",
        "Y = df[\"Label\"].values.tolist()"
      ],
      "metadata": {
        "id": "c_CPVJ15Iqw1"
      },
      "id": "c_CPVJ15Iqw1",
      "execution_count": 10,
      "outputs": []
    },
    {
      "cell_type": "code",
      "source": [
        "features = list(zip(X1, X2))\n",
        "features_np = np.array(features)\n",
        "\n",
        "# Normalize the output labels to be one-hot encoded and convert to a numpy array\n",
        "Y2 = np.array([normalize(i) for i in Y])"
      ],
      "metadata": {
        "id": "VdYzk2QgI1dz"
      },
      "id": "VdYzk2QgI1dz",
      "execution_count": 11,
      "outputs": []
    },
    {
      "cell_type": "code",
      "source": [
        "# Plotting all points\n",
        "plt.figure(figsize=(10, 10))\n",
        "for i in range(len(Y)):\n",
        "    if Y[i] == 1:\n",
        "        plt.plot(X1[i], X2[i], c=\"red\", marker=\"o\")\n",
        "    elif Y[i] == 2:\n",
        "        plt.plot(X1[i], X2[i], c=\"green\", marker=\"*\")\n",
        "    elif Y[i] == 3:\n",
        "        plt.plot(X1[i], X2[i], c=\"blue\", marker=\"o\")\n",
        "    elif Y[i] == 4:\n",
        "        plt.plot(X1[i], X2[i], c=\"black\", marker=\".\")\n",
        "    elif Y[i] == 5:\n",
        "        plt.plot(X1[i], X2[i], c=\"magenta\", marker=\"+\")\n",
        "\n",
        "# Calculate center point of the plot based on data range\n",
        "center_x = (min(X1) + max(X1)) / 2\n",
        "center_y = (min(X2) + max(X2)) / 2\n",
        "\n",
        "# Draw lines from the center outward to visually partition the plot\n",
        "for angle in np.linspace(0, 2 * np.pi, 5, endpoint=False):\n",
        "    end_x = center_x + np.cos(angle) * (max(X1) - min(X1))  # Line length based on X range\n",
        "    end_y = center_y + np.sin(angle) * (max(X2) - min(X2))  # Line length based on Y range\n",
        "    plt.plot([center_x, end_x], [center_y, end_y], 'k--', linewidth=1)  # Dashed black lines\n",
        "\n",
        "# Set plot labels and title\n",
        "plt.xlabel(\"X\")\n",
        "plt.ylabel(\"Y\")\n",
        "plt.title(\"Data Points by Label\")\n",
        "plt.show()"
      ],
      "metadata": {
        "colab": {
          "base_uri": "https://localhost:8080/",
          "height": 872
        },
        "id": "fWTmrmwKJjd3",
        "outputId": "e49ec9c4-9ef6-4f80-d285-072fb6242ce1"
      },
      "id": "fWTmrmwKJjd3",
      "execution_count": 12,
      "outputs": [
        {
          "output_type": "display_data",
          "data": {
            "text/plain": [
              "<Figure size 1000x1000 with 1 Axes>"
            ],
            "image/png": "[encoded data removed]"
          },
          "metadata": {}
        }
      ]
    },
    {
      "cell_type": "code",
      "source": [
        "# dividing the total set into training (150) & testing (50) sets\n",
        "\n",
        "features_train = features_np[:150]\n",
        "Y2_train = Y2[:150]\n",
        "\n",
        "features_test = features_np[50:]\n",
        "Y2_test = Y2[50:]"
      ],
      "metadata": {
        "id": "eVtSgYPvJw4k"
      },
      "id": "eVtSgYPvJw4k",
      "execution_count": 13,
      "outputs": []
    },
    {
      "cell_type": "code",
      "source": [
        "class NeuralNetwork(object):\n",
        "    def __init__(self):\n",
        "        inputLayerNeurons = 2\n",
        "        hiddenLayerNeurons1 = 200\n",
        "        hiddenLayerNeurons2 = 20\n",
        "        outLayerNeurons = 5\n",
        "\n",
        "        self.learning_rate = 0.2\n",
        "        self.W_HI = np.random.randn(inputLayerNeurons, hiddenLayerNeurons1)\n",
        "        self.W_MI = np.random.randn(hiddenLayerNeurons1, hiddenLayerNeurons2)\n",
        "        self.W_OH = np.random.randn(hiddenLayerNeurons2, outLayerNeurons)\n",
        "\n",
        "    def sigmoid(self, x, der=False):\n",
        "        if der == True:\n",
        "            return x * (1-x)\n",
        "        else:\n",
        "            return 1 / (1 + np.exp(-x))\n",
        "\n",
        "    def feedForward(self, X):\n",
        "        hidden_input1 = np.dot(X, self.W_HI)\n",
        "        self.hidden_output1 = self.sigmoid(hidden_input1)\n",
        "\n",
        "        hidden_input2 = np.dot(self.hidden_output1, self.W_MI)\n",
        "        self.hidden_output2 = self.sigmoid(hidden_input2)\n",
        "\n",
        "        output_input = np.dot(self.hidden_output2, self.W_OH)\n",
        "        pred = self.sigmoid(output_input)\n",
        "        return pred\n",
        "\n",
        "    def backPropagation(self, X, Y, pred):\n",
        "        output_error = Y - pred\n",
        "        output_delta = self.learning_rate * output_error * self.sigmoid(pred, der=True)\n",
        "\n",
        "        hidden_error1 = output_delta.dot(self.W_OH.T)\n",
        "        hidden_delta1 = self.learning_rate * hidden_error1 * self.sigmoid(self.hidden_output2, der=True)\n",
        "\n",
        "        hidden_error2 = hidden_delta1.dot(self.W_MI.T)\n",
        "        hidden_delta2 = self.learning_rate * hidden_error2 * self.sigmoid(self.hidden_output1, der=True)\n",
        "\n",
        "        self.W_HI += X.T.dot(hidden_delta2)\n",
        "        self.W_MI += self.hidden_output1.T.dot(hidden_delta1)\n",
        "        self.W_OH += self.hidden_output2.T.dot(output_delta)\n",
        "\n",
        "    def train(self, X, Y):\n",
        "        output = self.feedForward(X)\n",
        "        self.backPropagation(X,Y,output)"
      ],
      "metadata": {
        "id": "mIwBb5ztJ_DW"
      },
      "id": "mIwBb5ztJ_DW",
      "execution_count": 18,
      "outputs": []
    },
    {
      "cell_type": "code",
      "source": [
        "NN = NeuralNetwork()\n",
        "\n",
        "err_list = []\n",
        "\n",
        "for i in range(10000):\n",
        "    NN.train(features_train,Y2_train)\n",
        "    err = np.mean(np.square(Y2_train - NN.feedForward(features_train)))\n",
        "\n",
        "    if i % 1000 == 0:\n",
        "        err_list.append(err)\n",
        "        print(f'Epoch: {i}, error: {err}')\n",
        "\n",
        "plt.plot(err_list)\n",
        "plt.show()"
      ],
      "metadata": {
        "colab": {
          "base_uri": "https://localhost:8080/",
          "height": 638
        },
        "id": "xJjaliydKGMJ",
        "outputId": "86f65b87-20dd-4bfc-b2b6-5367d3840cbd"
      },
      "id": "xJjaliydKGMJ",
      "execution_count": 19,
      "outputs": [
        {
          "output_type": "stream",
          "name": "stderr",
          "text": [
            "<ipython-input-18-73353b50a621>:17: RuntimeWarning: overflow encountered in exp\n",
            "  return 1 / (1 + np.exp(-x))\n"
          ]
        },
        {
          "output_type": "stream",
          "name": "stdout",
          "text": [
            "Epoch: 0, error: 0.17376350525786613\n",
            "Epoch: 1000, error: 0.0005461930964422783\n",
            "Epoch: 2000, error: 3.969127603037319e-05\n",
            "Epoch: 3000, error: 2.1821003643497023e-05\n",
            "Epoch: 4000, error: 1.513300334016837e-05\n",
            "Epoch: 5000, error: 1.1623213202073899e-05\n",
            "Epoch: 6000, error: 9.447233883823388e-06\n",
            "Epoch: 7000, error: 7.961768014462278e-06\n",
            "Epoch: 8000, error: 6.882426967139307e-06\n",
            "Epoch: 9000, error: 6.0608791709025e-06\n"
          ]
        },
        {
          "output_type": "display_data",
          "data": {
            "text/plain": [
              "<Figure size 640x480 with 1 Axes>"
            ],
            "image/png": "[encoded data removed]"
          },
          "metadata": {}
        }
      ]
    },
    {
      "cell_type": "code",
      "source": [
        "# stores a dict with the probability of each class with its class name\n",
        "\n",
        "def getProb(pred):\n",
        "    return {f'Class-{index}': p*100 for index, p in enumerate(pred)}\n",
        "# returns the dict key with the highest probablity\n",
        "\n",
        "def getClass(dict):\n",
        "    max_key = max(dict, key=dict.get)\n",
        "    return (max_key)"
      ],
      "metadata": {
        "id": "MGN5B4t7LQ8f"
      },
      "id": "MGN5B4t7LQ8f",
      "execution_count": 20,
      "outputs": []
    },
    {
      "cell_type": "code",
      "source": [
        "# testing a random input\n",
        "\n",
        "pred = NN.feedForward([75,-33])\n",
        "print(pred)\n",
        "print(getProb(pred))\n",
        "print(getClass(getProb(pred)))"
      ],
      "metadata": {
        "colab": {
          "base_uri": "https://localhost:8080/"
        },
        "id": "erclo556LXcP",
        "outputId": "acc81029-97be-42f4-8a9c-caa5ecb93a1f"
      },
      "id": "erclo556LXcP",
      "execution_count": 21,
      "outputs": [
        {
          "output_type": "stream",
          "name": "stdout",
          "text": [
            "[9.45129830e-04 2.90575500e-07 9.82076175e-05 2.73546907e-03\n",
            " 9.95364427e-01]\n",
            "{'Class-0': 0.09451298303425473, 'Class-1': 2.905754997425047e-05, 'Class-2': 0.009820761748530433, 'Class-3': 0.2735469070302066, 'Class-4': 99.53644272526144}\n",
            "Class-4\n"
          ]
        }
      ]
    },
    {
      "cell_type": "code",
      "source": [
        "## Performance matrix\n",
        "\n",
        "predictions = NN.feedForward(features_test)\n",
        "\n",
        "# Calculate recall and F1 score\n",
        "Y_true = np.argmax(Y2_test, axis=1)\n",
        "Y_pred = np.argmax(predictions, axis=1)\n",
        "\n",
        "accuracy = accuracy_score(Y_true, Y_pred)\n",
        "print(f\"Overall Accuracy: {accuracy}\")\n",
        "\n",
        "precision = precision_score(Y_true, Y_pred, average=None)\n",
        "print(\"Precision for each class:\")\n",
        "for i, score in enumerate(precision):\n",
        "    print(f\"Class {i}: {score}\")\n",
        "\n",
        "recall = recall_score(Y_true, Y_pred, average='macro')\n",
        "print(f\"Recall: {recall}\")\n",
        "\n",
        "f1 = f1_score(Y_true, Y_pred, average='macro')\n",
        "print(f\"F1 Score overall: {f1}\")"
      ],
      "metadata": {
        "colab": {
          "base_uri": "https://localhost:8080/"
        },
        "id": "9JTG3KdGLg3n",
        "outputId": "eb9117c9-2d87-43ec-f40b-9e421908de3e"
      },
      "id": "9JTG3KdGLg3n",
      "execution_count": 22,
      "outputs": [
        {
          "output_type": "stream",
          "name": "stdout",
          "text": [
            "Overall Accuracy: 1.0\n",
            "Precision for each class:\n",
            "Class 0: 1.0\n",
            "Class 1: 1.0\n",
            "Class 2: 1.0\n",
            "Class 3: 1.0\n",
            "Class 4: 1.0\n",
            "Recall: 1.0\n",
            "F1 Score overall: 1.0\n"
          ]
        },
        {
          "output_type": "stream",
          "name": "stderr",
          "text": [
            "<ipython-input-18-73353b50a621>:17: RuntimeWarning: overflow encountered in exp\n",
            "  return 1 / (1 + np.exp(-x))\n"
          ]
        }
      ]
    },
    {
      "cell_type": "code",
      "source": [
        "# f1 score for each class\n",
        "\n",
        "f1_scores = f1_score(Y_true, Y_pred, average=None)\n",
        "\n",
        "print(\"F1 Scores for each class:\")\n",
        "for i, score in enumerate(f1_scores):\n",
        "    print(f\"Class {i}: {score}\")"
      ],
      "metadata": {
        "colab": {
          "base_uri": "https://localhost:8080/"
        },
        "id": "UUC3N-v7LpSW",
        "outputId": "6661438a-719a-4c77-9d8a-cfa0636a931b"
      },
      "id": "UUC3N-v7LpSW",
      "execution_count": 23,
      "outputs": [
        {
          "output_type": "stream",
          "name": "stdout",
          "text": [
            "F1 Scores for each class:\n",
            "Class 0: 1.0\n",
            "Class 1: 1.0\n",
            "Class 2: 1.0\n",
            "Class 3: 1.0\n",
            "Class 4: 1.0\n"
          ]
        }
      ]
    }
  ],
  "metadata": {
    "kernelspec": {
      "display_name": "Python 3 (ipykernel)",
      "language": "python",
      "name": "python3"
    },
    "language_info": {
      "codemirror_mode": {
        "name": "ipython",
        "version": 3
      },
      "file_extension": ".py",
      "mimetype": "text/x-python",
      "name": "python",
      "nbconvert_exporter": "python",
      "pygments_lexer": "ipython3",
      "version": "3.11.5"
    },
    "colab": {
      "provenance": []
    }
  },
  "nbformat": 4,
  "nbformat_minor": 5
}